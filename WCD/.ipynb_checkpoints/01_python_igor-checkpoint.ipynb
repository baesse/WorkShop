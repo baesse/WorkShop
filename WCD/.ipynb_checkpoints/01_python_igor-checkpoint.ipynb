{
 "cells": [
  {
   "cell_type": "code",
   "execution_count": 48,
   "metadata": {},
   "outputs": [],
   "source": [
    "arq1 = open(\"SalesJan2009.csv\", \"r\")\n",
    "linhas = arq1.read().split('\\n')\n",
    "arq2 = open(\"teste_gravacao.txt\", \"w\")\n",
    "tabela = []\n",
    "dates=[]\n",
    "for linha in linhas:\n",
    "       tabela.append(linha.split(\",\"))\n",
    "for linha in tabela:   \n",
    "    if(linha[3]=='Mastercard'):       \n",
    "        arq2.write(linha[3])\n",
    "\n",
    "    \n"
   ]
  },
  {
   "cell_type": "code",
   "execution_count": null,
   "metadata": {},
   "outputs": [],
   "source": []
  },
  {
   "cell_type": "code",
   "execution_count": null,
   "metadata": {},
   "outputs": [],
   "source": []
  },
  {
   "cell_type": "code",
   "execution_count": null,
   "metadata": {},
   "outputs": [],
   "source": []
  }
 ],
 "metadata": {
  "kernelspec": {
   "display_name": "Python 3",
   "language": "python",
   "name": "python3"
  },
  "language_info": {
   "codemirror_mode": {
    "name": "ipython",
    "version": 3
   },
   "file_extension": ".py",
   "mimetype": "text/x-python",
   "name": "python",
   "nbconvert_exporter": "python",
   "pygments_lexer": "ipython3",
   "version": "3.6.5"
  }
 },
 "nbformat": 4,
 "nbformat_minor": 2
}
