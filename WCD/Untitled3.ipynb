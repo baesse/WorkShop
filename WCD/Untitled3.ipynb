{
 "cells": [
  {
   "cell_type": "code",
   "execution_count": 48,
   "metadata": {},
   "outputs": [
    {
     "name": "stdout",
     "output_type": "stream",
     "text": [
      "Precisão com Entropy =  78.19148936170212\n",
      "Precisão com gini =  82.4468085106383\n"
     ]
    }
   ],
   "source": [
    "from IPython.display import Image\n",
    "Image(filename='decision-tree.png')\n",
    "import numpy as np\n",
    "import pandas as pd\n",
    "from sklearn.model_selection import train_test_split\n",
    "from sklearn.tree import DecisionTreeClassifier\n",
    "from sklearn.metrics import accuracy_score\n",
    "from sklearn import tree\n",
    "\n",
    "\n",
    "\n",
    "df = pd.read_csv('balance-scale.csv', sep= ',', header= None)\n",
    "df.head()\n",
    "df.shape\n",
    "df.describe()\n",
    "X = df.values[:, 1:5]\n",
    "Y = df.values[:,0]\n",
    "X_train, X_test, y_train, y_test = train_test_split( X, Y, test_size = 0.3, random_state = 100)\n",
    "dtree = DecisionTreeClassifier(criterion = \"entropy\", random_state = 100, max_depth=23, min_samples_leaf=6)\n",
    "dtree.fit(X_train, y_train)\n",
    "dtree.predict([[4, 4, 3, 3]])\n",
    "y_pred = dtree.predict(X_test)\n",
    "y_pred\n",
    "print (\"Precisão com Entropy = \", accuracy_score(y_test,y_pred)*100)\n",
    "dtree2 = DecisionTreeClassifier(criterion = \"gini\", random_state = 100, max_depth=23, min_samples_leaf=6)\n",
    "dtree2.fit(X_train, y_train)\n",
    "y_pred = dtree2.predict(X_test)\n",
    "print (\"Precisão com gini = \", accuracy_score(y_test,y_pred)*100)\n",
    "\n"
   ]
  },
  {
   "cell_type": "code",
   "execution_count": null,
   "metadata": {},
   "outputs": [],
   "source": []
  },
  {
   "cell_type": "code",
   "execution_count": null,
   "metadata": {},
   "outputs": [],
   "source": []
  }
 ],
 "metadata": {
  "kernelspec": {
   "display_name": "Python 3",
   "language": "python",
   "name": "python3"
  },
  "language_info": {
   "codemirror_mode": {
    "name": "ipython",
    "version": 3
   },
   "file_extension": ".py",
   "mimetype": "text/x-python",
   "name": "python",
   "nbconvert_exporter": "python",
   "pygments_lexer": "ipython3",
   "version": "3.6.5"
  }
 },
 "nbformat": 4,
 "nbformat_minor": 2
}
