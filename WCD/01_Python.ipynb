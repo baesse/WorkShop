{
 "cells": [
  {
   "cell_type": "markdown",
   "metadata": {},
   "source": [
    "# Lab01 - Introdução ao Python"
   ]
  },
  {
   "cell_type": "markdown",
   "metadata": {},
   "source": [
    "## Variáveis"
   ]
  },
  {
   "cell_type": "code",
   "execution_count": 1,
   "metadata": {},
   "outputs": [],
   "source": [
    "# Atribuindo o valor 1 à variável teste\n",
    "quantidade = 30"
   ]
  },
  {
   "cell_type": "code",
   "execution_count": 2,
   "metadata": {},
   "outputs": [
    {
     "name": "stdout",
     "output_type": "stream",
     "text": [
      "30\n"
     ]
    }
   ],
   "source": [
    "# Imprimindo o valor da variável\n",
    "print(quantidade)"
   ]
  },
  {
   "cell_type": "code",
   "execution_count": 3,
   "metadata": {},
   "outputs": [
    {
     "data": {
      "text/plain": [
       "int"
      ]
     },
     "execution_count": 3,
     "metadata": {},
     "output_type": "execute_result"
    }
   ],
   "source": [
    "# Descobindo o tipo de uma variável\n",
    "type(quantidade)"
   ]
  },
  {
   "cell_type": "code",
   "execution_count": 4,
   "metadata": {},
   "outputs": [
    {
     "name": "stdout",
     "output_type": "stream",
     "text": [
      "31\n"
     ]
    }
   ],
   "source": [
    "# Relizando operações simples\n",
    "quantidade += 1\n",
    "print(quantidade)"
   ]
  },
  {
   "cell_type": "code",
   "execution_count": 5,
   "metadata": {},
   "outputs": [
    {
     "name": "stdout",
     "output_type": "stream",
     "text": [
      "1\n"
     ]
    }
   ],
   "source": [
    "# Resto da divisão\n",
    "print(quantidade % 3)"
   ]
  },
  {
   "cell_type": "code",
   "execution_count": 6,
   "metadata": {},
   "outputs": [
    {
     "name": "stdout",
     "output_type": "stream",
     "text": [
      "13.333333333333334\n"
     ]
    }
   ],
   "source": [
    "# Resultado de uma divisão de inteiros é float\n",
    "print(40/3)"
   ]
  },
  {
   "cell_type": "code",
   "execution_count": 7,
   "metadata": {},
   "outputs": [
    {
     "data": {
      "text/plain": [
       "13"
      ]
     },
     "execution_count": 7,
     "metadata": {},
     "output_type": "execute_result"
    }
   ],
   "source": [
    "# Podemos converter para outros tipos\n",
    "int(40/3)"
   ]
  },
  {
   "cell_type": "code",
   "execution_count": 8,
   "metadata": {},
   "outputs": [
    {
     "data": {
      "text/plain": [
       "13.33"
      ]
     },
     "execution_count": 8,
     "metadata": {},
     "output_type": "execute_result"
    }
   ],
   "source": [
    "# Ou então arrendondar\n",
    "round(40/3,2)"
   ]
  },
  {
   "cell_type": "code",
   "execution_count": 9,
   "metadata": {},
   "outputs": [
    {
     "name": "stdout",
     "output_type": "stream",
     "text": [
      "Curso de Ciência de Dados\n"
     ]
    }
   ],
   "source": [
    "# Declarando uma string\n",
    "texto = 'Curso de Ciência de Dados'\n",
    "print(texto)"
   ]
  },
  {
   "cell_type": "code",
   "execution_count": 10,
   "metadata": {},
   "outputs": [
    {
     "name": "stdout",
     "output_type": "stream",
     "text": [
      "C\n"
     ]
    }
   ],
   "source": [
    "# Retornando a primeira letra\n",
    "print(texto[0])"
   ]
  },
  {
   "cell_type": "code",
   "execution_count": 11,
   "metadata": {},
   "outputs": [
    {
     "name": "stdout",
     "output_type": "stream",
     "text": [
      "Curso\n"
     ]
    }
   ],
   "source": [
    "# Retornando até a posição 5\n",
    "print(texto[:5])"
   ]
  },
  {
   "cell_type": "markdown",
   "metadata": {},
   "source": [
    "## Arrays"
   ]
  },
  {
   "cell_type": "code",
   "execution_count": 12,
   "metadata": {},
   "outputs": [
    {
     "name": "stdout",
     "output_type": "stream",
     "text": [
      "['Curso', 'de', 'Ciência', 'de', 'Dados']\n"
     ]
    }
   ],
   "source": [
    "# Usando split() e retornando uma lista de palavras\n",
    "palavras = texto.split() \n",
    "print(palavras)"
   ]
  },
  {
   "cell_type": "code",
   "execution_count": 13,
   "metadata": {},
   "outputs": [
    {
     "name": "stdout",
     "output_type": "stream",
     "text": [
      "5\n"
     ]
    }
   ],
   "source": [
    "# Tamanho de uma lista com len()\n",
    "print(len(palavras))"
   ]
  },
  {
   "cell_type": "code",
   "execution_count": 14,
   "metadata": {},
   "outputs": [
    {
     "name": "stdout",
     "output_type": "stream",
     "text": [
      "['Workshop', 'de', 'Ciência', 'de', 'Dados']\n"
     ]
    }
   ],
   "source": [
    "# Mudando um elemento da lista \n",
    "palavras[0] = \"Workshop\"\n",
    "print(palavras)"
   ]
  },
  {
   "cell_type": "code",
   "execution_count": 15,
   "metadata": {},
   "outputs": [
    {
     "data": {
      "text/plain": [
       "654"
      ]
     },
     "execution_count": 15,
     "metadata": {},
     "output_type": "execute_result"
    }
   ],
   "source": [
    "# Usando funções de lista\n",
    "numeros = [ 234, 13, 53, 654, 23]\n",
    "max(numeros)"
   ]
  },
  {
   "cell_type": "code",
   "execution_count": 16,
   "metadata": {},
   "outputs": [
    {
     "name": "stdout",
     "output_type": "stream",
     "text": [
      "234\n",
      "13\n",
      "53\n",
      "654\n",
      "23\n"
     ]
    }
   ],
   "source": [
    "# Navegando por uma lista\n",
    "for num in numeros:\n",
    "    print(num)"
   ]
  },
  {
   "cell_type": "markdown",
   "metadata": {},
   "source": [
    "## Funções"
   ]
  },
  {
   "cell_type": "code",
   "execution_count": 17,
   "metadata": {},
   "outputs": [],
   "source": [
    "# Definindo uma função simples\n",
    "def imprimeLista(lista):\n",
    "    i = 0\n",
    "    for item in lista:\n",
    "        i += 1\n",
    "        print('{} : {}'.format(i,item))"
   ]
  },
  {
   "cell_type": "code",
   "execution_count": 18,
   "metadata": {},
   "outputs": [
    {
     "name": "stdout",
     "output_type": "stream",
     "text": [
      "1 : 234\n",
      "2 : 13\n",
      "3 : 53\n",
      "4 : 654\n",
      "5 : 23\n",
      "6 : 3459\n"
     ]
    }
   ],
   "source": [
    "# Adicionando um novo elemento na lista\n",
    "numeros.append(3459)\n",
    "imprimeLista(numeros)"
   ]
  },
  {
   "cell_type": "code",
   "execution_count": 19,
   "metadata": {},
   "outputs": [
    {
     "name": "stdout",
     "output_type": "stream",
     "text": [
      "1 : 13\n",
      "2 : 23\n",
      "3 : 53\n",
      "4 : 234\n",
      "5 : 654\n",
      "6 : 3459\n"
     ]
    }
   ],
   "source": [
    "# Ordenando a lista\n",
    "numeros.sort()\n",
    "imprimeLista(numeros)"
   ]
  },
  {
   "cell_type": "markdown",
   "metadata": {},
   "source": [
    "## Tuplas"
   ]
  },
  {
   "cell_type": "code",
   "execution_count": 20,
   "metadata": {},
   "outputs": [
    {
     "name": "stdout",
     "output_type": "stream",
     "text": [
      "(1, 'João', 2340.0)\n"
     ]
    }
   ],
   "source": [
    "# Criando uma tupla\n",
    "tupla = (1, 'João', 2340.00)\n",
    "print(tupla)"
   ]
  },
  {
   "cell_type": "code",
   "execution_count": 21,
   "metadata": {},
   "outputs": [],
   "source": [
    "# Uma tupla não pode ser alterada. O comando abaixo não funcionaria\n",
    "# tupla[1] = 'João da Silva'"
   ]
  },
  {
   "cell_type": "markdown",
   "metadata": {},
   "source": [
    "## Dicionários"
   ]
  },
  {
   "cell_type": "code",
   "execution_count": 22,
   "metadata": {},
   "outputs": [
    {
     "name": "stdout",
     "output_type": "stream",
     "text": [
      "{'carro': 1204, 'onibus': 45, 'moto': 231}\n"
     ]
    }
   ],
   "source": [
    "# Criando um dicionário\n",
    "dicionario = {\"carro\": 1204, \"onibus\": 45, \"moto\": 231}\n",
    "print(dicionario)"
   ]
  },
  {
   "cell_type": "code",
   "execution_count": 23,
   "metadata": {},
   "outputs": [
    {
     "name": "stdout",
     "output_type": "stream",
     "text": [
      "3\n"
     ]
    }
   ],
   "source": [
    "# Tamanho do dicionário\n",
    "print(len(dicionario))"
   ]
  },
  {
   "cell_type": "code",
   "execution_count": 24,
   "metadata": {},
   "outputs": [
    {
     "name": "stdout",
     "output_type": "stream",
     "text": [
      "dict_keys(['carro', 'onibus', 'moto'])\n"
     ]
    }
   ],
   "source": [
    "# Chaves do dicionário\n",
    "print(dicionario.keys())"
   ]
  },
  {
   "cell_type": "code",
   "execution_count": 25,
   "metadata": {},
   "outputs": [
    {
     "name": "stdout",
     "output_type": "stream",
     "text": [
      "{'carro': 1204, 'onibus': 45, 'moto': 431}\n"
     ]
    }
   ],
   "source": [
    "# Alterando um valor do dicionario\n",
    "dicionario['moto'] = 431\n",
    "print(dicionario)"
   ]
  },
  {
   "cell_type": "markdown",
   "metadata": {},
   "source": [
    "## Arquivos"
   ]
  },
  {
   "cell_type": "markdown",
   "metadata": {},
   "source": [
    "Vamos utilizar neste exemplo um arquivo chamado \"SalesJan2009.csv\" que foi baixado de http://samplecsvs.s3.amazonaws.com/SalesJan2009.csv\n",
    "\n",
    "O arquivo Sales Jan 2009 contém algumas transações de vendas “higienizadas” durante o mês de janeiro. "
   ]
  },
  {
   "cell_type": "code",
   "execution_count": 26,
   "metadata": {},
   "outputs": [],
   "source": [
    "# Abrindo o arquivo para leitura\n",
    "arq1 = open(\"SalesJan2009.csv\", \"r\")"
   ]
  },
  {
   "cell_type": "code",
   "execution_count": 27,
   "metadata": {},
   "outputs": [
    {
     "name": "stdout",
     "output_type": "stream",
     "text": [
      "Transaction_date,Product,Price,Payment_Type,Name,City,State,Country,Account_Created,Last_Login,Latitude,Longitude\n",
      "1/2/09 6:17,Product1,1200,Mastercard,carolina,Basildon,England,United Kingdom,1/2/09 6\n"
     ]
    }
   ],
   "source": [
    "# Lendo primeiros 100 caracteres\n",
    "arq1.seek(0,0)\n",
    "print(arq1.read(200))"
   ]
  },
  {
   "cell_type": "code",
   "execution_count": 28,
   "metadata": {},
   "outputs": [
    {
     "name": "stdout",
     "output_type": "stream",
     "text": [
      "999\n"
     ]
    }
   ],
   "source": [
    "# Voltando ao início do arquivo para ler completamente, lendo e retornando as linhas do arquivo\n",
    "arq1.seek(0,0)\n",
    "linhas = arq1.read().split('\\n')\n",
    "print(len(linhas))"
   ]
  },
  {
   "cell_type": "code",
   "execution_count": 29,
   "metadata": {},
   "outputs": [
    {
     "name": "stdout",
     "output_type": "stream",
     "text": [
      "[['Transaction_date', 'Product', 'Price', 'Payment_Type', 'Name', 'City', 'State', 'Country', 'Account_Created', 'Last_Login', 'Latitude', 'Longitude'], ['1/2/09 6:17', 'Product1', '1200', 'Mastercard', 'carolina', 'Basildon', 'England', 'United Kingdom', '1/2/09 6:00', '1/2/09 6:08', '51.5', '-1.1166667'], ['1/2/09 4:53', 'Product1', '1200', 'Visa', 'Betina', 'Parkville                   ', 'MO', 'United States', '1/2/09 4:42', '1/2/09 7:49', '39.195', '-94.68194'], ['1/2/09 13:08', 'Product1', '1200', 'Mastercard', 'Federica e Andrea', 'Astoria                     ', 'OR', 'United States', '1/1/09 16:21', '1/3/09 12:32', '46.18806', '-123.83'], ['1/3/09 14:44', 'Product1', '1200', 'Visa', 'Gouya', 'Echuca', 'Victoria', 'Australia', '9/25/05 21:13', '1/3/09 14:22', '-36.1333333', '144.75'], ['1/4/09 12:56', 'Product2', '3600', 'Visa', 'Gerd W ', 'Cahaba Heights              ', 'AL', 'United States', '11/15/08 15:47', '1/4/09 12:45', '33.52056', '-86.8025'], ['1/4/09 13:19', 'Product1', '1200', 'Visa', 'LAURENCE', 'Mickleton                   ', 'NJ', 'United States', '9/24/08 15:19', '1/4/09 13:04', '39.79', '-75.23806'], ['1/4/09 20:11', 'Product1', '1200', 'Mastercard', 'Fleur', 'Peoria                      ', 'IL', 'United States', '1/3/09 9:38', '1/4/09 19:45', '40.69361', '-89.58889'], ['1/2/09 20:09', 'Product1', '1200', 'Mastercard', 'adam', 'Martin                      ', 'TN', 'United States', '1/2/09 17:43', '1/4/09 20:01', '36.34333', '-88.85028'], ['1/4/09 13:17', 'Product1', '1200', 'Mastercard', 'Renee Elisabeth', 'Tel Aviv', 'Tel Aviv', 'Israel', '1/4/09 13:03', '1/4/09 22:10', '32.0666667', '34.7666667']]\n"
     ]
    }
   ],
   "source": [
    "# Gravando os dados do arquivo em um array N:M (N linhas x M colunas) e imprimindo até a décima linha\n",
    "tabela = []\n",
    "for linha in linhas:\n",
    "    tabela.append(linha.split(\",\"))\n",
    "print(tabela[:10])"
   ]
  },
  {
   "cell_type": "code",
   "execution_count": 30,
   "metadata": {},
   "outputs": [
    {
     "name": "stdout",
     "output_type": "stream",
     "text": [
      "Acrescentando conteúdo\n"
     ]
    }
   ],
   "source": [
    "# Gravando dados em um arquivo\n",
    "arq2 = open(\"teste_gravacao.txt\", \"w\")\n",
    "arq2.write(\"Acrescentando conteúdo\")\n",
    "arq2.close()\n",
    "arq2 = open(\"teste_gravacao.txt\", \"r\")\n",
    "print(arq2.read())"
   ]
  },
  {
   "cell_type": "markdown",
   "metadata": {},
   "source": [
    "## Exercício 1\n",
    "\n",
    "### Lendo um arquivo e gravando em outro\n",
    "\n",
    "Leia o arquivo \"SalesJan2009.csv\" e salvar no arquivo \"exercicio1.txt\" todas as datas em que ocorreram vendas com cartão Mastercard\n",
    "\n",
    "Faça o desenvovimento em um novo Jupyter Notebook com o seu nome: 01_Python_Fulano"
   ]
  }
 ],
 "metadata": {
  "kernelspec": {
   "display_name": "Python 3",
   "language": "python",
   "name": "python3"
  },
  "language_info": {
   "codemirror_mode": {
    "name": "ipython",
    "version": 3
   },
   "file_extension": ".py",
   "mimetype": "text/x-python",
   "name": "python",
   "nbconvert_exporter": "python",
   "pygments_lexer": "ipython3",
   "version": "3.6.5"
  }
 },
 "nbformat": 4,
 "nbformat_minor": 2
}
